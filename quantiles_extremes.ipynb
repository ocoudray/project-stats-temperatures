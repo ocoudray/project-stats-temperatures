{
 "cells": [
  {
   "cell_type": "code",
   "execution_count": null,
   "metadata": {},
   "outputs": [],
   "source": [
    "import pandas as pd # pour les séries temporelles\n",
    "import matplotlib.pyplot as plt # pour les plot\n",
    "import numpy as np\n",
    "from copy import deepcopy\n",
    "from BuysBallot import BuysBallotModel  # module python pour la méthode de Buys Ballot\n",
    "from datetime import datetime  # gestion des dates\n",
    "import scipy.stats  # outils statistiques\n",
    "import statsmodels.api as sm # outils pour les séries temporelles"
   ]
  },
  {
   "cell_type": "code",
   "execution_count": null,
   "metadata": {},
   "outputs": [],
   "source": [
    "# Suppression des relevés pour les 29/02 des années bissextiles\n",
    "path = \"Data/ukcp09_gridded-land-obs-daily_timeseries_mean-temperature_000000E_500000N_19600101-20161231.csv\"\n",
    "data = pd.read_csv(path, header=[0,1], index_col=0, parse_dates=True)\n",
    "dates_to_remove = [datetime.date(datetime.strptime(str(y)+\"-02-29\", '%Y-%m-%d')) for y in range(1960, 2017, 4)]\n",
    "data = data.drop(dates_to_remove)\n",
    "# Lecture de la série des résidus (enregistrée indépendemment)\n",
    "serie = pd.read_csv(\"BB22500-547500.csv\", header=None)[1]\n",
    "serie.index = data.index\n",
    "serie.head()"
   ]
  },
  {
   "cell_type": "code",
   "execution_count": null,
   "metadata": {},
   "outputs": [],
   "source": [
    "# On ne garde qu'une valeur sur 5\n",
    "serie = serie.values[list(range(0,len(serie),5))]"
   ]
  },
  {
   "cell_type": "code",
   "execution_count": null,
   "metadata": {},
   "outputs": [],
   "source": [
    "# On ne garde qu'1/5 des données pour la calibration du modèle\n",
    "donnees = serie[:int(len(serie)/5)]\n",
    "len(donnees)"
   ]
  },
  {
   "cell_type": "markdown",
   "metadata": {},
   "source": [
    "## Approche naïve"
   ]
  },
  {
   "cell_type": "code",
   "execution_count": null,
   "metadata": {},
   "outputs": [],
   "source": [
    "# On cherche à modéliser la distribution par une loi connue. Vue la forme, on peut s'intéresser à une gaussienne\n",
    "mean_gaussian, std_gaussian = scipy.stats.norm.fit(donnees)"
   ]
  },
  {
   "cell_type": "code",
   "execution_count": null,
   "metadata": {
    "scrolled": false
   },
   "outputs": [],
   "source": [
    "x = np.linspace(-8,8,500)\n",
    "plt.figure(figsize=(10,10))\n",
    "plt.hist(donnees, bins = int(2*832**(1/3)), normed=True, label = \"Distribution empirique\")\n",
    "plt.plot(x, scipy.stats.norm.pdf(x, loc = mean_gaussian, scale = std_gaussian), label = \"Estimation par une loi normale\")\n",
    "plt.legend()\n",
    "plt.show()"
   ]
  },
  {
   "cell_type": "code",
   "execution_count": null,
   "metadata": {},
   "outputs": [],
   "source": [
    "# Calcul du quantile d'ordre 10**(-3) pour le modèle approchant les données\n",
    "q = scipy.stats.norm.ppf(1-10**(-3), loc = mean_gaussian, scale = std_gaussian)\n",
    "q"
   ]
  },
  {
   "cell_type": "code",
   "execution_count": null,
   "metadata": {},
   "outputs": [],
   "source": [
    "np.where(serie>q)"
   ]
  },
  {
   "cell_type": "code",
   "execution_count": null,
   "metadata": {},
   "outputs": [],
   "source": [
    "np.where(-serie>q)"
   ]
  },
  {
   "cell_type": "markdown",
   "metadata": {},
   "source": [
    "Une seule valeur sur plus de 4000 données dépasse le quantile d'ordre 10^-5. Tout porte à croire que la queue de distribution est plus fine qu'une gaussienne. Regardons le qqplot:"
   ]
  },
  {
   "cell_type": "code",
   "execution_count": null,
   "metadata": {},
   "outputs": [],
   "source": [
    "res = scipy.stats.probplot(serie, plot=plt)"
   ]
  },
  {
   "cell_type": "markdown",
   "metadata": {},
   "source": [
    "Le qqplot confirme ces hypothèses pour ce qui est de la distribution pour les très grandes valeurs (queue de distribution plus légèrement plus fine). En revanche, la queue de distribution sur les valeurs négatives semble beaucoup plus épaisse que la gaussienne."
   ]
  },
  {
   "cell_type": "markdown",
   "metadata": {},
   "source": [
    "## Statistiques des valeurs extrêmes"
   ]
  },
  {
   "cell_type": "markdown",
   "metadata": {},
   "source": [
    "### Estimateur de Hill"
   ]
  },
  {
   "cell_type": "code",
   "execution_count": null,
   "metadata": {},
   "outputs": [],
   "source": [
    "# choix de k pour les valeurs sup\n",
    "def alpha_Hill(donnees, k):\n",
    "    n = len(donnees)\n",
    "    sorted_data = sorted(donnees)\n",
    "    xi = 1/k*np.sum(np.log(sorted_data[n-k:]/sorted_data[n-k]))\n",
    "    return 1/xi"
   ]
  },
  {
   "cell_type": "code",
   "execution_count": null,
   "metadata": {},
   "outputs": [],
   "source": [
    "# Pour les valeurs sup\n",
    "alpha = np.array([alpha_Hill(donnees, k) for k in range(20,200)])\n",
    "alpha_sup = alpha + 1/np.sqrt(np.arange(20,200))*alpha**2\n",
    "alpha_inf = alpha - 1/np.sqrt(np.arange(20,200))*alpha**2\n",
    "plt.figure(figsize=(10,10))\n",
    "plt.plot(range(20,200), alpha, label = \"alpha\")\n",
    "plt.plot(range(20,200), alpha_sup, color='r', label=\"IC à 95%\")\n",
    "plt.plot(range(20,200), alpha_inf, color='r')\n",
    "plt.legend()\n",
    "plt.show()"
   ]
  },
  {
   "cell_type": "code",
   "execution_count": null,
   "metadata": {},
   "outputs": [],
   "source": [
    "# Pour les valeurs sup\n",
    "alpha2 = np.array([alpha_Hill(-donnees, k) for k in range(20,200)])\n",
    "alpha_sup2 = alpha2 + 1/np.sqrt(np.arange(20,200))*alpha2**2\n",
    "alpha_inf2 = alpha2 - 1/np.sqrt(np.arange(20,200))*alpha2**2\n",
    "plt.figure(figsize=(10,10))\n",
    "plt.plot(range(20,200), alpha2, label = \"alpha\")\n",
    "plt.plot(range(20,200), alpha_sup2, color='r', label=\"IC à 95%\")\n",
    "plt.plot(range(20,200), alpha_inf2, color='r')\n",
    "plt.legend()\n",
    "plt.show()"
   ]
  },
  {
   "cell_type": "code",
   "execution_count": null,
   "metadata": {},
   "outputs": [],
   "source": [
    "alpha[30]"
   ]
  },
  {
   "cell_type": "code",
   "execution_count": null,
   "metadata": {},
   "outputs": [],
   "source": [
    "alpha2[30]"
   ]
  },
  {
   "cell_type": "code",
   "execution_count": null,
   "metadata": {},
   "outputs": [],
   "source": [
    "# Estimation des quantiles\n",
    "def quantiles(donnees, k):\n",
    "    alphainf = alpha_Hill(-donnees, k)\n",
    "    alphasup = alpha_Hill(donnees, k)\n",
    "    n = len(donnees)\n",
    "    sorted_donnees = sorted(donnees)\n",
    "    q_sup = (1+(n/k*(1-10**(-3)))**(-1/alphasup))*sorted_donnees[n-k]\n",
    "    q_inf = (1+(n/k*(1-10**(-3)))**(-1/alphainf))*sorted_donnees[k]\n",
    "    return q_sup, q_inf"
   ]
  },
  {
   "cell_type": "code",
   "execution_count": null,
   "metadata": {},
   "outputs": [],
   "source": [
    "quantiles_sup = []\n",
    "quantiles_inf = []\n",
    "for k in range(1,50):\n",
    "    qs, qi = quantiles(donnees, k)\n",
    "    quantiles_sup.append(qs)\n",
    "    quantiles_inf.append(qi)"
   ]
  },
  {
   "cell_type": "code",
   "execution_count": null,
   "metadata": {},
   "outputs": [],
   "source": [
    "plt.plot(range(1,50), quantiles_sup)\n",
    "plt.show()"
   ]
  },
  {
   "cell_type": "code",
   "execution_count": null,
   "metadata": {},
   "outputs": [],
   "source": [
    "plt.plot(range(1,50), quantiles_inf)\n",
    "plt.show()"
   ]
  },
  {
   "cell_type": "code",
   "execution_count": null,
   "metadata": {},
   "outputs": [],
   "source": [
    "# En utilisant toutes les données\n",
    "quantiles_sup = []\n",
    "quantiles_inf = []\n",
    "for k in range(1,50):\n",
    "    qs, qi = quantiles(serie, k)\n",
    "    quantiles_sup.append(qs)\n",
    "    quantiles_inf.append(qi)"
   ]
  },
  {
   "cell_type": "code",
   "execution_count": null,
   "metadata": {},
   "outputs": [],
   "source": [
    "plt.plot(range(1,50), quantiles_sup)\n",
    "plt.show()"
   ]
  },
  {
   "cell_type": "code",
   "execution_count": null,
   "metadata": {},
   "outputs": [],
   "source": [
    "plt.plot(range(1,50), quantiles_inf)\n",
    "plt.show()"
   ]
  },
  {
   "cell_type": "markdown",
   "metadata": {},
   "source": [
    "### Estimateur de Pickands"
   ]
  },
  {
   "cell_type": "code",
   "execution_count": null,
   "metadata": {},
   "outputs": [],
   "source": [
    "def pickands(donnees, k):\n",
    "    n = len(donnees)\n",
    "    sorted_data = sorted(donnees)\n",
    "    return 1/np.log(2)*np.log((sorted_data[n-k]-sorted_data[n-2*k])/(sorted_data[n-2*k]-sorted_data[n-4*k]))"
   ]
  },
  {
   "cell_type": "code",
   "execution_count": null,
   "metadata": {},
   "outputs": [],
   "source": [
    "xi = [pickands(serie, k) for k in range(10,100)]\n",
    "plt.plot(range(10,100), xi)\n",
    "plt.show()"
   ]
  },
  {
   "cell_type": "markdown",
   "metadata": {},
   "source": [
    "### Méthode POT (Picks Over Threshold)"
   ]
  },
  {
   "cell_type": "code",
   "execution_count": null,
   "metadata": {},
   "outputs": [],
   "source": [
    "def e(donnees, u):\n",
    "    return np.mean(donnees[np.where(donnees>u)[0]] - u)"
   ]
  },
  {
   "cell_type": "code",
   "execution_count": null,
   "metadata": {},
   "outputs": [],
   "source": [
    "# Espérance des excès e(u) à droite\n",
    "x = np.linspace(1,6, 100)\n",
    "y = []\n",
    "for u in x:\n",
    "    y.append(e(serie, u))\n",
    "plt.plot(x,y)\n",
    "plt.title(\"Espérance des excès en fonction du seuil u pour les positifs\")\n",
    "plt.show()"
   ]
  },
  {
   "cell_type": "code",
   "execution_count": null,
   "metadata": {},
   "outputs": [],
   "source": [
    "# Espérance des excès e(u) à gauche\n",
    "x = np.linspace(1,6, 100)\n",
    "y = []\n",
    "for u in x:\n",
    "    y.append(e(-serie, u))\n",
    "plt.plot(x,y)\n",
    "plt.title(\"Espérance des excès en fonction du seuil u pour les négatifs\")\n",
    "plt.show()"
   ]
  },
  {
   "cell_type": "code",
   "execution_count": null,
   "metadata": {},
   "outputs": [],
   "source": [
    "# Choix du seuil u = 4 (début de la \"tendance linéaire\") à droite et u = -5 pour les négatifs\n",
    "# On fit par maximum de vriasemblance une distribution de Pareto généralisée sur les données dépassant le seuil\n",
    "seuil1 = 5\n",
    "seuil2 = 4"
   ]
  },
  {
   "cell_type": "code",
   "execution_count": null,
   "metadata": {},
   "outputs": [],
   "source": [
    "# Calcul des quantiles à gauche (inf)\n",
    "xi, loc, beta = scipy.stats.genpareto.fit(-serie[np.where(-serie>seuil1)[0]]-seuil1, loc = 0)\n",
    "n = len(donnees)\n",
    "sorted_data = sorted(-serie)\n",
    "q_inf = - seuil1 + beta/xi*((n/len(np.where(-serie>seuil1)[0])*(1-10**(-3)))**(-beta)-1)\n",
    "print(\"xi = \"+str(xi))\n",
    "print(\"(alpha = \"+str(1/xi)+\")\")\n",
    "print(\"Quantile à l'ordre 10**-3 : \"+str(q_inf))"
   ]
  },
  {
   "cell_type": "code",
   "execution_count": null,
   "metadata": {},
   "outputs": [],
   "source": [
    "# Calcul des quantiles à droite (sup)\n",
    "xi, loc, beta = scipy.stats.genpareto.fit(serie[np.where(serie>seuil2)[0]]-seuil2, loc = 0)\n",
    "sorted_data = sorted(serie)\n",
    "q_sup = seuil2 + beta/xi*((n/len(np.where(serie>seuil2)[0])*(1-10**(-3)))**(-beta)-1)\n",
    "print(\"xi = \"+str(xi))\n",
    "print(\"(alpha = \"+str(1/xi)+\")\")\n",
    "print(\"Quantile à l'ordre 10**-3 : \"+str(q_sup))"
   ]
  },
  {
   "cell_type": "code",
   "execution_count": null,
   "metadata": {},
   "outputs": [],
   "source": []
  }
 ],
 "metadata": {
  "kernelspec": {
   "display_name": "Python 3",
   "language": "python",
   "name": "python3"
  },
  "language_info": {
   "codemirror_mode": {
    "name": "ipython",
    "version": 3
   },
   "file_extension": ".py",
   "mimetype": "text/x-python",
   "name": "python",
   "nbconvert_exporter": "python",
   "pygments_lexer": "ipython3",
   "version": "3.6.4"
  }
 },
 "nbformat": 4,
 "nbformat_minor": 2
}
