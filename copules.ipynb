{
 "cells": [
  {
   "cell_type": "markdown",
   "metadata": {},
   "source": [
    "# Etude des dépendances en températures entre deux positions géographiques"
   ]
  },
  {
   "cell_type": "code",
   "execution_count": null,
   "metadata": {},
   "outputs": [],
   "source": [
    "import pandas as pd\n",
    "from datetime import datetime\n",
    "import numpy as np\n",
    "import matplotlib.pyplot as plt"
   ]
  },
  {
   "cell_type": "code",
   "execution_count": null,
   "metadata": {},
   "outputs": [],
   "source": [
    "# Suppression des relevés pour les 29/02 des années bissextiles\n",
    "path = \"Data/ukcp09_gridded-land-obs-daily_timeseries_mean-temperature_000000E_500000N_19600101-20161231.csv\"\n",
    "data = pd.read_csv(path, header=[0,1], index_col=0, parse_dates=True)\n",
    "dates_to_remove = [datetime.date(datetime.strptime(str(y)+\"-02-29\", '%Y-%m-%d')) for y in range(1960, 2017, 4)]\n",
    "data = data.drop(dates_to_remove)\n",
    "# Lecture de la série des résidus (enregistrée indépendemment)\n",
    "serie1 = pd.read_csv(\"BB22500-547500.csv\", header=None)[1]\n",
    "serie1.index = data.index\n",
    "serie2 = pd.read_csv(\"BB17500-502500.csv\", header=None)[1]\n",
    "serie2.index = data.index\n",
    "serie2.head()"
   ]
  },
  {
   "cell_type": "code",
   "execution_count": null,
   "metadata": {},
   "outputs": [],
   "source": [
    "# On ne garde qu'une valeur sur 5\n",
    "serie1 = serie1.values[list(range(0,len(serie1),5))]\n",
    "serie2 = serie2.values[list(range(0,len(serie2),5))]"
   ]
  },
  {
   "cell_type": "markdown",
   "metadata": {},
   "source": [
    "# Corrélation linéaire"
   ]
  },
  {
   "cell_type": "code",
   "execution_count": null,
   "metadata": {},
   "outputs": [],
   "source": [
    "correlation = (np.mean(serie1 * serie2) - np.mean(serie1)*np.mean(serie2))/(np.std(serie1)*np.std(serie2))\n",
    "print(\"Correlation : \"+str(correlation))"
   ]
  },
  {
   "cell_type": "markdown",
   "metadata": {},
   "source": [
    "# Corrélation des rangs"
   ]
  },
  {
   "cell_type": "code",
   "execution_count": null,
   "metadata": {},
   "outputs": [],
   "source": [
    "# Coefficient de Spearman\n",
    "n = len(serie1)\n",
    "argsort1 = np.argsort(serie1)\n",
    "ranks1 = {}\n",
    "for k in range(len(argsort1)):\n",
    "    ranks1[serie1[argsort1[k]]] = k\n",
    "    \n",
    "argsort2 = np.argsort(serie2)\n",
    "ranks2 = {}\n",
    "for k in range(len(argsort2)):\n",
    "    ranks2[serie2[argsort2[k]]] = k"
   ]
  },
  {
   "cell_type": "code",
   "execution_count": null,
   "metadata": {},
   "outputs": [],
   "source": [
    "tmp1 = np.array([ranks1[x] for x in serie1])\n",
    "tmp2 = np.array([ranks2[x] for x in serie2])\n",
    "rho_s = 12/(n**2-1)*1/n*np.sum((tmp1-(n+1)/2)*(tmp2-(n+1)/2))\n",
    "print(\"Coefficient de Spearman : \"+str(rho_s))"
   ]
  },
  {
   "cell_type": "code",
   "execution_count": null,
   "metadata": {},
   "outputs": [],
   "source": [
    "# Taux de Kendall\n",
    "t = 0\n",
    "for i in range(n):\n",
    "    for j in range(i,n):\n",
    "        t += np.sign((serie1[i]-serie1[j])*(serie2[i]-serie2[j]))\n",
    "t /= n*(n-1)/2\n",
    "print(\"Taux de Kendall : \"+str(t))"
   ]
  },
  {
   "cell_type": "markdown",
   "metadata": {},
   "source": [
    "Tous ces indicateurs témoignent d'une corrélation très forte entre les deux séries temporelles"
   ]
  },
  {
   "cell_type": "markdown",
   "metadata": {},
   "source": [
    "# Copules"
   ]
  },
  {
   "cell_type": "markdown",
   "metadata": {},
   "source": [
    "## Copule de Gumbel"
   ]
  },
  {
   "cell_type": "code",
   "execution_count": null,
   "metadata": {},
   "outputs": [],
   "source": [
    "# Estimation par le taux de Kendall\n",
    "theta_g = 1/(1-t)\n",
    "print(\"Theta (copule de Gumbel) : \"+str(theta_g))"
   ]
  },
  {
   "cell_type": "code",
   "execution_count": null,
   "metadata": {},
   "outputs": [],
   "source": [
    "# Indépendance asymptotique à gauche\n",
    "lbda_u = 2-2**(1/theta_g)\n",
    "print(\"Coefficient de dépendance extrême à droite : \" + str(lbda_u))"
   ]
  },
  {
   "cell_type": "code",
   "execution_count": null,
   "metadata": {},
   "outputs": [],
   "source": [
    "# Par maximum de vraisemblance\n",
    "# Fonctions de répartition empiriques\n",
    "def F1(x):\n",
    "    k=0\n",
    "    n=len(ranks1)\n",
    "    while((k<n)and(serie1[argsort1[k]]<x)):\n",
    "        k+=1\n",
    "    return(k/n)\n",
    "\n",
    "def F2(x):\n",
    "    k=0\n",
    "    n=len(ranks2)\n",
    "    while((k<n)and(serie2[argsort2[k]]<x)):\n",
    "        k+=1\n",
    "    return(k/n)"
   ]
  },
  {
   "cell_type": "code",
   "execution_count": null,
   "metadata": {},
   "outputs": [],
   "source": [
    "U=[(F1(serie1[k]),F2(serie2[k])) for k in range (len(serie1))]"
   ]
  },
  {
   "cell_type": "code",
   "execution_count": null,
   "metadata": {},
   "outputs": [],
   "source": [
    "#Expression copule de Grumbel\n",
    "def C_gr(theta,v1,v2):\n",
    "    if (v1*v2!=0):\n",
    "        a=(-np.log(v1))**theta+(-np.log(v2))**theta\n",
    "        return(np.exp(-a**(1/theta)))\n",
    "    else:\n",
    "        return(0)   "
   ]
  },
  {
   "cell_type": "code",
   "execution_count": null,
   "metadata": {},
   "outputs": [],
   "source": [
    "def phi_g(theta, u):\n",
    "    return (-np.log(u))**theta\n",
    "\n",
    "def densite_g(theta, u, v):\n",
    "    C = C_gr(theta, u, v)\n",
    "    phi_u = phi_g(theta, u)\n",
    "    phi_v = phi_g(theta, v)\n",
    "    phi_u2 = phi_g(theta-1, u)\n",
    "    phi_v2 = phi_g(theta-1, v)\n",
    "    return C*(phi_u + phi_v)**(1/theta-2)*(theta-1 + (phi_u + phi_v)**(1/theta))*(phi_u2*phi_v2)/(u*v)"
   ]
  },
  {
   "cell_type": "code",
   "execution_count": null,
   "metadata": {},
   "outputs": [],
   "source": [
    "#Estimation de theta\n",
    "n=len(serie1)\n",
    "\n",
    "# gumbel\n",
    "def vrais_gr(theta):\n",
    "    res=0\n",
    "    for k in range(n):\n",
    "        if U[k][0] != 0 and U[k][1]!=0:\n",
    "            res+=np.log(densite_g(theta,U[k][0],U[k][1]))\n",
    "    return(res)"
   ]
  },
  {
   "cell_type": "code",
   "execution_count": null,
   "metadata": {},
   "outputs": [],
   "source": [
    "x = np.linspace(1.1,30,100)\n",
    "y = []\n",
    "for theta in x:\n",
    "    y.append(vrais_gr(theta))\n",
    "plt.plot(x,y)\n",
    "plt.show()"
   ]
  },
  {
   "cell_type": "code",
   "execution_count": null,
   "metadata": {},
   "outputs": [],
   "source": [
    "# Theta optimal\n",
    "thetag2 = x[np.argmax(y)]\n",
    "print(\"Theta : \" + str(thetag2))\n",
    "lbda_u2 = 2-2**(1/thetag2)\n",
    "print(\"Coefficient de dépendance extrême à droite : \" + str(lbda_u2))\n",
    "print(\"Tau de Kendall : \" + str(1-1/thetag2))"
   ]
  },
  {
   "cell_type": "markdown",
   "metadata": {},
   "source": [
    "## Copule de Clayton"
   ]
  },
  {
   "cell_type": "code",
   "execution_count": null,
   "metadata": {},
   "outputs": [],
   "source": [
    "# Estimation par le taux de Kendall\n",
    "theta_c = 2*t/(1-t)\n",
    "print(\"Theta (copule de Clayton) : \"+str(theta_c))"
   ]
  },
  {
   "cell_type": "code",
   "execution_count": null,
   "metadata": {},
   "outputs": [],
   "source": [
    "# Indépendance asymptotique à droite\n",
    "lbda_l = 2**(-1/theta_c)\n",
    "print(\"Coefficient de dépendance extrême à gauche : \" + str(lbda_l))"
   ]
  },
  {
   "cell_type": "code",
   "execution_count": null,
   "metadata": {},
   "outputs": [],
   "source": [
    "# Estimation par maximum de vraisemblance\n",
    "# Expression copule de Clayton\n",
    "def C_cl(theta,v1,v2):\n",
    "    if (v1*v2!=0):\n",
    "        a=v1**(-theta)+v2**(-theta)-1\n",
    "        return(a**(-1/theta))\n",
    "    else:\n",
    "        return(0)\n",
    "    \n",
    "#densité copule clayton :\n",
    "\n",
    "def densite_cl(theta, u, v):\n",
    "    return (theta + 1)*(u*v)**(-theta - 1) * (u**(-theta) + v**(-theta)-1)**(-1/theta-2)"
   ]
  },
  {
   "cell_type": "code",
   "execution_count": null,
   "metadata": {},
   "outputs": [],
   "source": [
    "# Log-vraisemblance Clayton\n",
    "def vrais_cl(theta):\n",
    "    res=0\n",
    "    for k in range(n):\n",
    "        if U[k][0] != 0 and U[k][1] != 0:\n",
    "            res+=np.log(densite_cl(theta,U[k][0],U[k][1]))\n",
    "    return(res)"
   ]
  },
  {
   "cell_type": "code",
   "execution_count": null,
   "metadata": {},
   "outputs": [],
   "source": [
    "x = np.linspace(0.1,30,100)\n",
    "y = []\n",
    "for theta in x:\n",
    "    y.append(vrais_cl(theta))\n",
    "plt.plot(x,y)\n",
    "plt.show()"
   ]
  },
  {
   "cell_type": "code",
   "execution_count": null,
   "metadata": {},
   "outputs": [],
   "source": [
    "# Theta optimal\n",
    "thetacl2 = x[np.argmax(y)]\n",
    "print(\"Theta : \" + str(thetacl2))\n",
    "lbda_l2 = 2**(-1/thetacl2)\n",
    "print(\"Coefficient de dépendance extrême à droite : \" + str(lbda_l2))\n",
    "print(\"Tau de Kendall : \" + str(thetacl2/(thetacl2+2)))"
   ]
  },
  {
   "cell_type": "code",
   "execution_count": null,
   "metadata": {},
   "outputs": [],
   "source": []
  }
 ],
 "metadata": {
  "kernelspec": {
   "display_name": "Python 3",
   "language": "python",
   "name": "python3"
  },
  "language_info": {
   "codemirror_mode": {
    "name": "ipython",
    "version": 3
   },
   "file_extension": ".py",
   "mimetype": "text/x-python",
   "name": "python",
   "nbconvert_exporter": "python",
   "pygments_lexer": "ipython3",
   "version": "3.6.4"
  }
 },
 "nbformat": 4,
 "nbformat_minor": 2
}
