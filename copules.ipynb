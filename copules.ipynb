{
 "cells": [
  {
   "cell_type": "markdown",
   "metadata": {},
   "source": [
    "# Etude des dépendances en températures entre deux positions géographiques"
   ]
  },
  {
   "cell_type": "code",
   "execution_count": 13,
   "metadata": {},
   "outputs": [],
   "source": [
    "import pandas as pd\n",
    "from datetime import datetime\n",
    "import numpy as np"
   ]
  },
  {
   "cell_type": "code",
   "execution_count": 10,
   "metadata": {},
   "outputs": [
    {
     "data": {
      "text/plain": [
       "1960-01-01    2.525530\n",
       "1960-01-02    0.784470\n",
       "1960-01-03    5.845865\n",
       "1960-01-04    4.523752\n",
       "1960-01-05   -0.348186\n",
       "Name: 1, dtype: float64"
      ]
     },
     "execution_count": 10,
     "metadata": {},
     "output_type": "execute_result"
    }
   ],
   "source": [
    "# Suppression des relevés pour les 29/02 des années bissextiles\n",
    "path = \"Data/ukcp09_gridded-land-obs-daily_timeseries_mean-temperature_000000E_500000N_19600101-20161231.csv\"\n",
    "data = pd.read_csv(path, header=[0,1], index_col=0, parse_dates=True)\n",
    "dates_to_remove = [datetime.date(datetime.strptime(str(y)+\"-02-29\", '%Y-%m-%d')) for y in range(1960, 2017, 4)]\n",
    "data = data.drop(dates_to_remove)\n",
    "# Lecture de la série des résidus (enregistrée indépendemment)\n",
    "serie1 = pd.read_csv(\"BB22500-547500.csv\", header=None)[1]\n",
    "serie1.index = data.index\n",
    "serie2 = pd.read_csv(\"BB17500-502500.csv\", header=None)[1]\n",
    "serie2.index = data.index\n",
    "serie2.head()"
   ]
  },
  {
   "cell_type": "code",
   "execution_count": 14,
   "metadata": {},
   "outputs": [],
   "source": [
    "# On ne garde qu'une valeur sur 5\n",
    "serie1 = serie1.values[list(range(0,len(serie1),5))]\n",
    "serie2 = serie2.values[list(range(0,len(serie2),5))]"
   ]
  },
  {
   "cell_type": "markdown",
   "metadata": {},
   "source": [
    "# Corrélation linéaire"
   ]
  },
  {
   "cell_type": "code",
   "execution_count": 19,
   "metadata": {},
   "outputs": [
    {
     "name": "stdout",
     "output_type": "stream",
     "text": [
      "Correlation : 0.9871961704389657\n"
     ]
    }
   ],
   "source": [
    "correlation = (np.mean(serie1 * serie2) - np.mean(serie1)*np.mean(serie2))/(np.std(serie1)*np.std(serie2))\n",
    "print(\"Correlation : \"+str(correlation))"
   ]
  },
  {
   "cell_type": "markdown",
   "metadata": {},
   "source": [
    "# Corrélation des rangs"
   ]
  },
  {
   "cell_type": "code",
   "execution_count": 29,
   "metadata": {},
   "outputs": [],
   "source": [
    "# Coefficient de Spearman\n",
    "n = len(serie1)\n",
    "argsort1 = np.argsort(serie1)\n",
    "ranks1 = {}\n",
    "for k in range(len(argsort1)):\n",
    "    ranks1[serie1[argsort1[k]]] = k\n",
    "    \n",
    "argsort2 = np.argsort(serie2)\n",
    "ranks2 = {}\n",
    "for k in range(len(argsort2)):\n",
    "    ranks2[serie2[argsort2[k]]] = k"
   ]
  },
  {
   "cell_type": "code",
   "execution_count": 33,
   "metadata": {},
   "outputs": [
    {
     "name": "stdout",
     "output_type": "stream",
     "text": [
      "Coefficient de Spearman : 0.9860487621683954\n"
     ]
    }
   ],
   "source": [
    "tmp1 = np.array([ranks1[x] for x in serie1])\n",
    "tmp2 = np.array([ranks2[x] for x in serie2])\n",
    "rho_s = 12/(n**2-1)*1/n*np.sum((tmp1-(n+1)/2)*(tmp2-(n+1)/2))\n",
    "print(\"Coefficient de Spearman : \"+str(rho_s))"
   ]
  },
  {
   "cell_type": "code",
   "execution_count": 39,
   "metadata": {},
   "outputs": [
    {
     "name": "stdout",
     "output_type": "stream",
     "text": [
      "Taux de Kendall : 0.9034454550496367\n"
     ]
    }
   ],
   "source": [
    "# Taux de Kendall\n",
    "t = 0\n",
    "for i in range(n):\n",
    "    for j in range(i,n):\n",
    "        t += np.sign((serie1[i]-serie1[j])*(serie2[i]-serie2[j]))\n",
    "t /= n*(n-1)/2\n",
    "print(\"Taux de Kendall : \"+str(t))"
   ]
  },
  {
   "cell_type": "markdown",
   "metadata": {},
   "source": [
    "Tous ces indicateurs témoignent d'une corrélation très forte entre les deux séries temporelles"
   ]
  },
  {
   "cell_type": "markdown",
   "metadata": {},
   "source": [
    "# Copules"
   ]
  },
  {
   "cell_type": "markdown",
   "metadata": {},
   "source": [
    "## Copule de Gumbel"
   ]
  },
  {
   "cell_type": "code",
   "execution_count": 48,
   "metadata": {},
   "outputs": [
    {
     "name": "stdout",
     "output_type": "stream",
     "text": [
      "Theta (copule de Gumbel) : 10.356840276281964\n"
     ]
    }
   ],
   "source": [
    "# Estimation par le taux de Kendall\n",
    "theta_g = 1/(1-t)\n",
    "print(\"Theta (copule de Gumbel) : \"+str(theta_g))"
   ]
  },
  {
   "cell_type": "code",
   "execution_count": 49,
   "metadata": {},
   "outputs": [
    {
     "name": "stdout",
     "output_type": "stream",
     "text": [
      "Coefficient de dépendance extrême à droite : 0.9307831008183443\n"
     ]
    }
   ],
   "source": [
    "# Indépendance asymptotique à gauche\n",
    "lbda_u = 2-2**(1/theta_g)\n",
    "print(\"Coefficient de dépendance extrême à droite : \" + str(lbda_u))"
   ]
  },
  {
   "cell_type": "code",
   "execution_count": null,
   "metadata": {},
   "outputs": [],
   "source": [
    "# Par maximum de vraisemblance"
   ]
  },
  {
   "cell_type": "markdown",
   "metadata": {},
   "source": [
    "## Copule de Clayton"
   ]
  },
  {
   "cell_type": "code",
   "execution_count": 46,
   "metadata": {},
   "outputs": [
    {
     "name": "stdout",
     "output_type": "stream",
     "text": [
      "Theta (copule de Clayton) : 18.71368055256393\n"
     ]
    }
   ],
   "source": [
    "# Estimation par le taux de Kendall\n",
    "theta_c = 2*t/(1-t)\n",
    "print(\"Theta (copule de Clayton) : \"+str(theta_c))"
   ]
  },
  {
   "cell_type": "code",
   "execution_count": 50,
   "metadata": {},
   "outputs": [
    {
     "name": "stdout",
     "output_type": "stream",
     "text": [
      "Coefficient de dépendance extrême à gauche : 0.9636379777034911\n"
     ]
    }
   ],
   "source": [
    "# Indépendance asymptotique à droite\n",
    "lbda_l = 2**(-1/theta_c)\n",
    "print(\"Coefficient de dépendance extrême à gauche : \" + str(lbda_l))"
   ]
  },
  {
   "cell_type": "code",
   "execution_count": 51,
   "metadata": {},
   "outputs": [],
   "source": [
    "# Estimation par maximum de vraisemblance"
   ]
  },
  {
   "cell_type": "code",
   "execution_count": null,
   "metadata": {},
   "outputs": [],
   "source": []
  }
 ],
 "metadata": {
  "kernelspec": {
   "display_name": "Python 3",
   "language": "python",
   "name": "python3"
  },
  "language_info": {
   "codemirror_mode": {
    "name": "ipython",
    "version": 3
   },
   "file_extension": ".py",
   "mimetype": "text/x-python",
   "name": "python",
   "nbconvert_exporter": "python",
   "pygments_lexer": "ipython3",
   "version": "3.6.4"
  }
 },
 "nbformat": 4,
 "nbformat_minor": 2
}
