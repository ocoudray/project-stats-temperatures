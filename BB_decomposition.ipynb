{
 "cells": [
  {
   "cell_type": "markdown",
   "metadata": {},
   "source": [
    "# Série temporelle : décomposition par méthode de Buys Ballot et approximation de la perturbation par un modèle AR"
   ]
  },
  {
   "cell_type": "code",
   "execution_count": null,
   "metadata": {},
   "outputs": [],
   "source": [
    "import pandas as pd # pour les séries temporelles\n",
    "import matplotlib.pyplot as plt # pour les plot\n",
    "import numpy as np\n",
    "from copy import deepcopy\n",
    "from BuysBallot import BuysBallotModel  # module python pour la méthode de Buys Ballot\n",
    "from datetime import datetime  # gestion des dates\n",
    "import scipy.stats  # outils statistiques\n",
    "import statsmodels.api as sm # outils pour les séries temporelles"
   ]
  },
  {
   "cell_type": "markdown",
   "metadata": {},
   "source": [
    "## Lecture des données"
   ]
  },
  {
   "cell_type": "code",
   "execution_count": null,
   "metadata": {},
   "outputs": [],
   "source": [
    "path = \"Data/ukcp09_gridded-land-obs-daily_timeseries_mean-temperature_000000E_500000N_19600101-20161231.csv\"\n",
    "data = pd.read_csv(path, header=[0,1], index_col=0, parse_dates=True)"
   ]
  },
  {
   "cell_type": "code",
   "execution_count": null,
   "metadata": {},
   "outputs": [],
   "source": [
    "data.head()"
   ]
  },
  {
   "cell_type": "code",
   "execution_count": null,
   "metadata": {},
   "outputs": [],
   "source": [
    "# Suppression des relevés pour les 29/02 des années bissextiles\n",
    "data = pd.read_csv(path, header=[0,1], index_col=0, parse_dates=True)\n",
    "dates_to_remove = [datetime.date(datetime.strptime(str(y)+\"-02-29\", '%Y-%m-%d')) for y in range(1960, 2017, 4)]\n",
    "data = data.drop(dates_to_remove)\n",
    "\n",
    "# sélection d'une série temporelle (un lieu)\n",
    "series = data[\"22500\"][\"547500\"]\n",
    "sup = len(series)-1\n",
    "inf = 0\n",
    "dates = data.index\n",
    "\n",
    "# plot\n",
    "plt.figure(figsize=(10,10))\n",
    "plt.plot(list(series[:365*5]))\n",
    "plt.title(\"Températures entre le 01/01/1960 et le 31/12/1964 (54.7500°N -2.2500°W)\")\n",
    "plt.show()"
   ]
  },
  {
   "cell_type": "markdown",
   "metadata": {},
   "source": [
    "## Décomposition par méthode de Buys Ballot"
   ]
  },
  {
   "cell_type": "code",
   "execution_count": null,
   "metadata": {},
   "outputs": [],
   "source": [
    "# Définition des fonctions de base pour la régression\n",
    "def f2(t, i, j, length, subd = 1):\n",
    "    return np.power(t,i) * (t>=j*length/subd).astype(int)*(t<(j+1)*length/subd).astype(int)\n",
    "\n",
    "\n",
    "def g(t, i, k = 365):\n",
    "    return (t%k == i).astype(int) - (t%k == 0).astype(int)"
   ]
  },
  {
   "cell_type": "code",
   "execution_count": null,
   "metadata": {},
   "outputs": [],
   "source": [
    "# Méthode de Buys Ballot\n",
    "BBM = BuysBallotModel(f2, g, subd=1, dim=2)"
   ]
  },
  {
   "cell_type": "code",
   "execution_count": null,
   "metadata": {},
   "outputs": [],
   "source": [
    "BBM.plot_decomposition(data,\"22500\", \"547500\", save=False)"
   ]
  },
  {
   "cell_type": "markdown",
   "metadata": {},
   "source": [
    "## Autocorrélation et autocorrélation partielle"
   ]
  },
  {
   "cell_type": "code",
   "execution_count": null,
   "metadata": {},
   "outputs": [],
   "source": [
    "# Lecture de la série des résidus (enregistrée indépendemment)\n",
    "serie = pd.read_csv(\"BB22500-547500.csv\", header=None)[1]\n",
    "serie.index = data.index\n",
    "serie.head()"
   ]
  },
  {
   "cell_type": "code",
   "execution_count": null,
   "metadata": {},
   "outputs": [],
   "source": [
    "# Autocorrélation et autocorrélation partielle\n",
    "fig = plt.figure(figsize=(20,20))\n",
    "ax1 = fig.add_subplot(211)\n",
    "fig = sm.graphics.tsa.plot_acf(serie, lags=40, ax=ax1)\n",
    "ax2 = fig.add_subplot(212)\n",
    "fig = sm.graphics.tsa.plot_pacf(serie, lags=40, ax=ax2)"
   ]
  },
  {
   "cell_type": "markdown",
   "metadata": {},
   "source": [
    "## Estimation des paramètres du modèle AR"
   ]
  },
  {
   "cell_type": "code",
   "execution_count": null,
   "metadata": {},
   "outputs": [],
   "source": [
    "# Modèle ARMA\n",
    "model1 = sm.tsa.ARMA(serie, (4,0))\n",
    "result1 = model1.fit(disp=False)"
   ]
  },
  {
   "cell_type": "code",
   "execution_count": null,
   "metadata": {},
   "outputs": [],
   "source": [
    "result1.params"
   ]
  },
  {
   "cell_type": "code",
   "execution_count": null,
   "metadata": {},
   "outputs": [],
   "source": [
    "confidence = result1.conf_int(alpha=0.05)\n",
    "print((confidence[1]-confidence[0])/2)"
   ]
  },
  {
   "cell_type": "code",
   "execution_count": null,
   "metadata": {},
   "outputs": [],
   "source": [
    "model1.loglike(result1.params)"
   ]
  },
  {
   "cell_type": "code",
   "execution_count": null,
   "metadata": {},
   "outputs": [],
   "source": [
    "result1.pvalues"
   ]
  },
  {
   "cell_type": "code",
   "execution_count": null,
   "metadata": {},
   "outputs": [],
   "source": [
    "result1.plot_predict(20750,20800)\n",
    "plt.show()"
   ]
  },
  {
   "cell_type": "markdown",
   "metadata": {},
   "source": [
    "## Validation du modèle"
   ]
  },
  {
   "cell_type": "code",
   "execution_count": null,
   "metadata": {},
   "outputs": [],
   "source": [
    "# Résidus -> bruit blanc ?\n",
    "fig = plt.figure(figsize=(20,20))\n",
    "ax1 = fig.add_subplot(211)\n",
    "fig = sm.graphics.tsa.plot_acf(result1.resid, lags=40, ax=ax1, alpha=0.05)"
   ]
  },
  {
   "cell_type": "code",
   "execution_count": null,
   "metadata": {},
   "outputs": [],
   "source": [
    "# Normalité de la distribution des résidus ?\n",
    "normalized_resid = result1.resid/np.std(result1.resid)\n",
    "x = np.linspace(-4,4,200)\n",
    "plt.figure(figsize=(10,10))\n",
    "plt.hist(normalized_resid.values, bins = int((2*len(normalized_resid))**(1/3)), normed=True, label=\"Distribution empirique\")\n",
    "plt.plot(x, scipy.stats.norm.pdf(x), color = 'r', label = \"N(0,1)\")\n",
    "plt.legend()\n",
    "plt.show()"
   ]
  },
  {
   "cell_type": "code",
   "execution_count": null,
   "metadata": {},
   "outputs": [],
   "source": [
    "# Test de Kolmogorov-Smirnov\n",
    "r = scipy.stats.kstest(normalized_resid, \"norm\")\n",
    "r"
   ]
  }
 ],
 "metadata": {
  "kernelspec": {
   "display_name": "Python 3",
   "language": "python",
   "name": "python3"
  },
  "language_info": {
   "codemirror_mode": {
    "name": "ipython",
    "version": 3
   },
   "file_extension": ".py",
   "mimetype": "text/x-python",
   "name": "python",
   "nbconvert_exporter": "python",
   "pygments_lexer": "ipython3",
   "version": "3.6.4"
  }
 },
 "nbformat": 4,
 "nbformat_minor": 2
}
